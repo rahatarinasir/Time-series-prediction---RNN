{
  "cells": [
    {
      "cell_type": "markdown",
      "metadata": {
        "id": "view-in-github",
        "colab_type": "text"
      },
      "source": [
        "<a href=\"https://colab.research.google.com/github/rahatarinasir/Time-series-prediction---RNN/blob/main/Time_series_prediction_RNN_.ipynb\" target=\"_parent\"><img src=\"https://colab.research.google.com/assets/colab-badge.svg\" alt=\"Open In Colab\"/></a>"
      ]
    },
    {
      "cell_type": "markdown",
      "metadata": {
        "id": "Fka06e2iBh9X"
      },
      "source": [
        "## Initialization"
      ]
    },
    {
      "cell_type": "code",
      "execution_count": null,
      "metadata": {
        "id": "3lYPHHWdBh9a"
      },
      "outputs": [],
      "source": [
        "from collections import deque\n",
        "import numpy as np \n",
        "import pandas as pd   \n",
        "import keras\n",
        "from sklearn.model_selection import train_test_split\n",
        "from sklearn.preprocessing import MinMaxScaler\n",
        "import matplotlib.pyplot as plt"
      ]
    },
    {
      "cell_type": "markdown",
      "metadata": {
        "id": "JiLYIbIuBh9f"
      },
      "source": [
        "## Dynamic finding"
      ]
    },
    {
      "cell_type": "code",
      "execution_count": null,
      "metadata": {
        "id": "7E3X_o--Bh9i"
      },
      "outputs": [],
      "source": [
        "def dynamic_finding(data, max_lag = None, th = 0.1, mode = 'unbiased'):\n",
        "    N = len(data)\n",
        "    if not max_lag:\n",
        "        max_lag = N - 1\n",
        "    autocorrelation_p = deque()\n",
        "    for i in range(0, max_lag):\n",
        "        X = data.shift(i).fillna(0)\n",
        "        autocorrelation_p.append(np.dot(X.T, data)/N if mode == 'unbiased' else np.dot(X.T, data)/(N-i))\n",
        "    t = np.arange(-max_lag, max_lag, 1)\n",
        "    autocorrelation_p = np.array(autocorrelation_p).reshape(max_lag, 1)\n",
        "    autocorrelation_n = autocorrelation_p[::-1]\n",
        "    plt.plot(np.arange(0, max_lag, 1), autocorrelation_p, 'b.', linewidth=3)\n",
        "    plt.plot(np.arange(-max_lag, 0, 1), autocorrelation_n,'b', linewidth=3)\n",
        "    plt.plot(t, th*np.ones(len(t)), 'k--', linewidth=2)\n",
        "    plt.plot(t, -th*np.ones(len(t)), 'k--', linewidth=2)\n",
        "    plt.xlabel('k')\n",
        "    plt.title('AutoCorrelation function')\n",
        "    plt.axis([-max_lag, max_lag, -0.2, 0.75])\n",
        "    plt.show()"
      ]
    },
    {
      "cell_type": "markdown",
      "metadata": {
        "id": "oPf3kcdGBh9n"
      },
      "source": [
        "## Sequence generation"
      ]
    },
    {
      "cell_type": "code",
      "execution_count": null,
      "metadata": {
        "id": "Dq9r05xoBh9p"
      },
      "outputs": [],
      "source": [
        "# One step ahead prediction \n",
        "# Five steps ahead predicition \n",
        "\n",
        "\n",
        "def sequence_making(sequence, n_step = 25):\n",
        "    X, y = deque(), deque()\n",
        "    for i in range(len(sequence)):\n",
        "        end_idx = i + n_step\n",
        "        if end_idx > len(sequence) - 1:\n",
        "            break \n",
        "        seq_x, seq_y = sequence[i:end_idx], sequence[end_idx]\n",
        "        X.append(seq_x)\n",
        "        y.append(seq_y)\n",
        "    return np.array(X).reshape(len(sequence) - n_step, n_step), np.array(y)"
      ]
    },
    {
      "cell_type": "markdown",
      "metadata": {
        "id": "k6n8v42QBh9r"
      },
      "source": [
        "## Data loading"
      ]
    },
    {
      "cell_type": "code",
      "execution_count": null,
      "metadata": {
        "id": "03TzLrk7Bh9t"
      },
      "outputs": [],
      "source": [
        "data_ts = pd.read_excel('Data.xlsx')\n",
        "data = 2 * MinMaxScaler().fit_transform(data_ts.values) - 1\n",
        "X, y = sequence_making(data)"
      ]
    },
    {
      "cell_type": "markdown",
      "metadata": {
        "id": "9hbvi8lrBh9u"
      },
      "source": [
        "### Examine dynamic finding"
      ]
    },
    {
      "cell_type": "code",
      "execution_count": null,
      "metadata": {
        "id": "Eyou7ShnBh9w",
        "outputId": "c9f8d8cf-a730-4040-926d-375b147657cc"
      },
      "outputs": [
        {
          "data": {
            "image/png": "[encoded data removed]",
            "text/plain": [
              "<Figure size 432x288 with 1 Axes>"
            ]
          },
          "metadata": {
            "needs_background": "light"
          },
          "output_type": "display_data"
        }
      ],
      "source": [
        "dynamic_finding(data_ts, th = 0.6)"
      ]
    },
    {
      "cell_type": "markdown",
      "metadata": {
        "id": "1-zDnvggBh9x"
      },
      "source": [
        "## Test train splitting "
      ]
    },
    {
      "cell_type": "code",
      "execution_count": null,
      "metadata": {
        "id": "irIM1syABh9y"
      },
      "outputs": [],
      "source": [
        "x_train, x_test, y_train, y_test = train_test_split(X, y, test_size = 0.3)"
      ]
    },
    {
      "cell_type": "markdown",
      "metadata": {
        "id": "97p9xpFcBh9z"
      },
      "source": [
        "## Modeling using vanilla recurrent neural network"
      ]
    },
    {
      "cell_type": "code",
      "execution_count": null,
      "metadata": {
        "id": "IAPwe77sBh90",
        "outputId": "1305f507-018d-4007-d198-c69a22af3eda"
      },
      "outputs": [
        {
          "name": "stdout",
          "output_type": "stream",
          "text": [
            "Epoch 1/100\n",
            "521/521 [==============================] - 1s 1ms/step - loss: 0.0182 - mse: 0.0182 - val_loss: 0.0049 - val_mse: 0.0049\n",
            "Epoch 2/100\n",
            "521/521 [==============================] - 1s 1ms/step - loss: 0.0033 - mse: 0.0033 - val_loss: 0.0021 - val_mse: 0.0021\n",
            "Epoch 3/100\n",
            "521/521 [==============================] - 1s 1ms/step - loss: 0.0018 - mse: 0.0018 - val_loss: 0.0014 - val_mse: 0.0014\n",
            "Epoch 4/100\n",
            "521/521 [==============================] - 1s 1ms/step - loss: 0.0015 - mse: 0.0015 - val_loss: 0.0016 - val_mse: 0.0016\n",
            "Epoch 5/100\n",
            "521/521 [==============================] - 1s 1ms/step - loss: 0.0014 - mse: 0.0014 - val_loss: 0.0011 - val_mse: 0.0011\n",
            "Epoch 6/100\n",
            "521/521 [==============================] - 1s 1ms/step - loss: 0.0012 - mse: 0.0012 - val_loss: 9.5550e-04 - val_mse: 9.5550e-04\n",
            "Epoch 7/100\n",
            "521/521 [==============================] - 1s 1ms/step - loss: 0.0011 - mse: 0.0011 - val_loss: 0.0014 - val_mse: 0.0014\n",
            "Epoch 8/100\n",
            "521/521 [==============================] - 1s 1ms/step - loss: 0.0011 - mse: 0.0011 - val_loss: 8.3140e-04 - val_mse: 8.3140e-04\n",
            "Epoch 9/100\n",
            "521/521 [==============================] - 1s 1ms/step - loss: 9.9526e-04 - mse: 9.9526e-04 - val_loss: 0.0020 - val_mse: 0.0020\n",
            "Epoch 10/100\n",
            "521/521 [==============================] - 1s 1ms/step - loss: 9.8267e-04 - mse: 9.8267e-04 - val_loss: 7.6089e-04 - val_mse: 7.6089e-04\n",
            "Epoch 11/100\n",
            "521/521 [==============================] - 1s 1ms/step - loss: 8.6739e-04 - mse: 8.6739e-04 - val_loss: 6.9483e-04 - val_mse: 6.9483e-04\n",
            "Epoch 12/100\n",
            "521/521 [==============================] - 1s 1ms/step - loss: 8.2317e-04 - mse: 8.2317e-04 - val_loss: 0.0011 - val_mse: 0.0011\n",
            "Epoch 13/100\n",
            "521/521 [==============================] - 1s 1ms/step - loss: 8.0804e-04 - mse: 8.0804e-04 - val_loss: 5.6459e-04 - val_mse: 5.6459e-04\n",
            "Epoch 14/100\n",
            "521/521 [==============================] - 1s 1ms/step - loss: 7.7296e-04 - mse: 7.7296e-04 - val_loss: 7.7147e-04 - val_mse: 7.7147e-04\n",
            "Epoch 15/100\n",
            "521/521 [==============================] - 1s 1ms/step - loss: 7.5234e-04 - mse: 7.5234e-04 - val_loss: 6.7087e-04 - val_mse: 6.7087e-04\n",
            "Epoch 16/100\n",
            "521/521 [==============================] - 1s 1ms/step - loss: 7.0687e-04 - mse: 7.0687e-04 - val_loss: 5.5756e-04 - val_mse: 5.5756e-04\n",
            "Epoch 17/100\n",
            "521/521 [==============================] - 1s 1ms/step - loss: 7.0678e-04 - mse: 7.0678e-04 - val_loss: 5.3756e-04 - val_mse: 5.3756e-04\n",
            "Epoch 18/100\n",
            "521/521 [==============================] - 1s 1ms/step - loss: 6.5378e-04 - mse: 6.5378e-04 - val_loss: 4.8889e-04 - val_mse: 4.8889e-04\n",
            "Epoch 19/100\n",
            "521/521 [==============================] - 1s 1ms/step - loss: 6.1134e-04 - mse: 6.1134e-04 - val_loss: 4.4185e-04 - val_mse: 4.4185e-04\n",
            "Epoch 20/100\n",
            "521/521 [==============================] - 1s 1ms/step - loss: 6.4785e-04 - mse: 6.4785e-04 - val_loss: 3.7152e-04 - val_mse: 3.7152e-04\n",
            "Epoch 21/100\n",
            "521/521 [==============================] - 1s 1ms/step - loss: 6.3661e-04 - mse: 6.3661e-04 - val_loss: 3.5920e-04 - val_mse: 3.5920e-04\n",
            "Epoch 22/100\n",
            "521/521 [==============================] - 1s 1ms/step - loss: 5.7152e-04 - mse: 5.7152e-04 - val_loss: 3.6699e-04 - val_mse: 3.6699e-04\n",
            "Epoch 23/100\n",
            "521/521 [==============================] - 1s 1ms/step - loss: 5.6147e-04 - mse: 5.6147e-04 - val_loss: 3.2675e-04 - val_mse: 3.2675e-04\n",
            "Epoch 24/100\n",
            "521/521 [==============================] - 1s 1ms/step - loss: 5.4156e-04 - mse: 5.4156e-04 - val_loss: 3.2194e-04 - val_mse: 3.2194e-04\n",
            "Epoch 25/100\n",
            "521/521 [==============================] - 1s 2ms/step - loss: 5.2340e-04 - mse: 5.2340e-04 - val_loss: 3.0134e-04 - val_mse: 3.0134e-04\n",
            "Epoch 26/100\n",
            "521/521 [==============================] - 1s 1ms/step - loss: 5.1462e-04 - mse: 5.1462e-04 - val_loss: 2.9095e-04 - val_mse: 2.9095e-04\n",
            "Epoch 27/100\n",
            "521/521 [==============================] - 1s 2ms/step - loss: 5.6096e-04 - mse: 5.6096e-04 - val_loss: 3.6264e-04 - val_mse: 3.6264e-04\n",
            "Epoch 28/100\n",
            "521/521 [==============================] - 1s 1ms/step - loss: 4.8320e-04 - mse: 4.8320e-04 - val_loss: 3.0860e-04 - val_mse: 3.0860e-04\n",
            "Epoch 29/100\n",
            "521/521 [==============================] - 1s 1ms/step - loss: 5.0467e-04 - mse: 5.0467e-04 - val_loss: 2.8147e-04 - val_mse: 2.8147e-04\n",
            "Epoch 30/100\n",
            "521/521 [==============================] - 1s 1ms/step - loss: 4.8667e-04 - mse: 4.8667e-04 - val_loss: 3.7085e-04 - val_mse: 3.7085e-04\n",
            "Epoch 31/100\n",
            "521/521 [==============================] - 1s 2ms/step - loss: 4.7167e-04 - mse: 4.7167e-04 - val_loss: 2.9154e-04 - val_mse: 2.9154e-04\n",
            "Epoch 32/100\n",
            "521/521 [==============================] - 1s 1ms/step - loss: 4.9046e-04 - mse: 4.9046e-04 - val_loss: 2.7431e-04 - val_mse: 2.7431e-04\n",
            "Epoch 33/100\n",
            "521/521 [==============================] - 1s 1ms/step - loss: 4.3526e-04 - mse: 4.3526e-04 - val_loss: 6.8765e-04 - val_mse: 6.8765e-04\n",
            "Epoch 34/100\n",
            "521/521 [==============================] - 1s 1ms/step - loss: 4.8721e-04 - mse: 4.8721e-04 - val_loss: 3.3581e-04 - val_mse: 3.3581e-04\n",
            "Epoch 35/100\n",
            "521/521 [==============================] - 1s 1ms/step - loss: 4.1499e-04 - mse: 4.1499e-04 - val_loss: 3.1536e-04 - val_mse: 3.1536e-04\n",
            "Epoch 36/100\n",
            "521/521 [==============================] - 1s 1ms/step - loss: 4.8680e-04 - mse: 4.8680e-04 - val_loss: 4.1272e-04 - val_mse: 4.1272e-04\n",
            "Epoch 37/100\n",
            "521/521 [==============================] - 1s 1ms/step - loss: 4.6762e-04 - mse: 4.6762e-04 - val_loss: 6.8294e-04 - val_mse: 6.8294e-04\n",
            "Epoch 38/100\n",
            "521/521 [==============================] - 1s 2ms/step - loss: 4.3669e-04 - mse: 4.3669e-04 - val_loss: 2.7361e-04 - val_mse: 2.7361e-04\n",
            "Epoch 39/100\n",
            "521/521 [==============================] - 1s 1ms/step - loss: 4.1994e-04 - mse: 4.1994e-04 - val_loss: 2.4362e-04 - val_mse: 2.4362e-04\n",
            "Epoch 40/100\n",
            "521/521 [==============================] - 1s 1ms/step - loss: 4.0770e-04 - mse: 4.0770e-04 - val_loss: 3.3706e-04 - val_mse: 3.3706e-04\n",
            "Epoch 41/100\n",
            "521/521 [==============================] - 1s 1ms/step - loss: 4.4821e-04 - mse: 4.4821e-04 - val_loss: 2.9586e-04 - val_mse: 2.9586e-04\n",
            "Epoch 42/100\n",
            "521/521 [==============================] - 1s 1ms/step - loss: 3.9212e-04 - mse: 3.9212e-04 - val_loss: 5.4430e-04 - val_mse: 5.4430e-04\n",
            "Epoch 43/100\n",
            "521/521 [==============================] - 1s 1ms/step - loss: 4.3199e-04 - mse: 4.3199e-04 - val_loss: 3.9780e-04 - val_mse: 3.9780e-04\n",
            "Epoch 44/100\n",
            "521/521 [==============================] - 1s 1ms/step - loss: 3.8188e-04 - mse: 3.8188e-04 - val_loss: 3.0170e-04 - val_mse: 3.0170e-04\n",
            "Epoch 45/100\n",
            "521/521 [==============================] - 1s 2ms/step - loss: 4.2946e-04 - mse: 4.2946e-04 - val_loss: 2.6772e-04 - val_mse: 2.6772e-04\n",
            "Epoch 46/100\n",
            "521/521 [==============================] - 1s 2ms/step - loss: 4.0689e-04 - mse: 4.0689e-04 - val_loss: 2.3899e-04 - val_mse: 2.3899e-04\n",
            "Epoch 47/100\n",
            "521/521 [==============================] - 1s 2ms/step - loss: 4.1470e-04 - mse: 4.1470e-04 - val_loss: 3.2235e-04 - val_mse: 3.2235e-04\n",
            "Epoch 48/100\n",
            "521/521 [==============================] - 1s 1ms/step - loss: 4.0007e-04 - mse: 4.0007e-04 - val_loss: 3.6300e-04 - val_mse: 3.6300e-04\n",
            "Epoch 49/100\n",
            "521/521 [==============================] - 1s 1ms/step - loss: 3.8927e-04 - mse: 3.8927e-04 - val_loss: 3.7081e-04 - val_mse: 3.7081e-04\n",
            "Epoch 50/100\n",
            "521/521 [==============================] - 1s 1ms/step - loss: 3.8217e-04 - mse: 3.8217e-04 - val_loss: 2.9439e-04 - val_mse: 2.9439e-04\n",
            "Epoch 51/100\n",
            "521/521 [==============================] - 1s 2ms/step - loss: 4.2085e-04 - mse: 4.2085e-04 - val_loss: 3.5090e-04 - val_mse: 3.5090e-04\n",
            "Epoch 52/100\n",
            "521/521 [==============================] - 1s 2ms/step - loss: 4.0888e-04 - mse: 4.0888e-04 - val_loss: 2.4605e-04 - val_mse: 2.4605e-04\n",
            "Epoch 53/100\n",
            "521/521 [==============================] - 1s 2ms/step - loss: 3.9069e-04 - mse: 3.9069e-04 - val_loss: 2.8598e-04 - val_mse: 2.8598e-04\n",
            "Epoch 54/100\n",
            "521/521 [==============================] - 1s 2ms/step - loss: 3.9319e-04 - mse: 3.9319e-04 - val_loss: 2.4030e-04 - val_mse: 2.4030e-04\n",
            "Epoch 55/100\n",
            "521/521 [==============================] - 1s 1ms/step - loss: 3.7866e-04 - mse: 3.7866e-04 - val_loss: 2.7927e-04 - val_mse: 2.7927e-04\n",
            "Epoch 56/100\n"
          ]
        },
        {
          "name": "stdout",
          "output_type": "stream",
          "text": [
            "521/521 [==============================] - 1s 1ms/step - loss: 3.8389e-04 - mse: 3.8389e-04 - val_loss: 2.9948e-04 - val_mse: 2.9948e-04\n",
            "Epoch 57/100\n",
            "521/521 [==============================] - 1s 1ms/step - loss: 3.6850e-04 - mse: 3.6850e-04 - val_loss: 4.6589e-04 - val_mse: 4.6589e-04\n",
            "Epoch 58/100\n",
            "521/521 [==============================] - 1s 1ms/step - loss: 3.6453e-04 - mse: 3.6453e-04 - val_loss: 2.6169e-04 - val_mse: 2.6169e-04\n",
            "Epoch 59/100\n",
            "521/521 [==============================] - 1s 1ms/step - loss: 3.9354e-04 - mse: 3.9354e-04 - val_loss: 2.3075e-04 - val_mse: 2.3075e-04\n",
            "Epoch 60/100\n",
            "521/521 [==============================] - 1s 1ms/step - loss: 3.8460e-04 - mse: 3.8460e-04 - val_loss: 3.0857e-04 - val_mse: 3.0857e-04\n",
            "Epoch 61/100\n",
            "521/521 [==============================] - 1s 1ms/step - loss: 3.5798e-04 - mse: 3.5798e-04 - val_loss: 4.2236e-04 - val_mse: 4.2236e-04\n",
            "Epoch 62/100\n",
            "521/521 [==============================] - 1s 1ms/step - loss: 3.8685e-04 - mse: 3.8685e-04 - val_loss: 2.7209e-04 - val_mse: 2.7209e-04\n",
            "Epoch 63/100\n",
            "521/521 [==============================] - 1s 1ms/step - loss: 3.8393e-04 - mse: 3.8393e-04 - val_loss: 7.5586e-04 - val_mse: 7.5586e-04\n",
            "Epoch 64/100\n",
            "521/521 [==============================] - 1s 1ms/step - loss: 3.6452e-04 - mse: 3.6452e-04 - val_loss: 2.3081e-04 - val_mse: 2.3081e-04\n",
            "Epoch 65/100\n",
            "521/521 [==============================] - 1s 1ms/step - loss: 3.7608e-04 - mse: 3.7608e-04 - val_loss: 3.6386e-04 - val_mse: 3.6386e-04\n",
            "Epoch 66/100\n",
            "521/521 [==============================] - 1s 1ms/step - loss: 3.5468e-04 - mse: 3.5468e-04 - val_loss: 2.8357e-04 - val_mse: 2.8357e-04\n",
            "Epoch 67/100\n",
            "521/521 [==============================] - 1s 1ms/step - loss: 3.8095e-04 - mse: 3.8095e-04 - val_loss: 2.3127e-04 - val_mse: 2.3127e-04\n",
            "Epoch 68/100\n",
            "521/521 [==============================] - 1s 1ms/step - loss: 4.2115e-04 - mse: 4.2115e-04 - val_loss: 3.3722e-04 - val_mse: 3.3722e-04\n",
            "Epoch 69/100\n",
            "521/521 [==============================] - 1s 1ms/step - loss: 3.8450e-04 - mse: 3.8450e-04 - val_loss: 2.3358e-04 - val_mse: 2.3358e-04\n",
            "Epoch 70/100\n",
            "521/521 [==============================] - 1s 1ms/step - loss: 3.7701e-04 - mse: 3.7701e-04 - val_loss: 5.5682e-04 - val_mse: 5.5682e-04\n",
            "Epoch 71/100\n",
            "521/521 [==============================] - 1s 1ms/step - loss: 3.7028e-04 - mse: 3.7028e-04 - val_loss: 2.8190e-04 - val_mse: 2.8190e-04\n",
            "Epoch 72/100\n",
            "521/521 [==============================] - 1s 1ms/step - loss: 3.4159e-04 - mse: 3.4159e-04 - val_loss: 2.4061e-04 - val_mse: 2.4061e-04\n",
            "Epoch 73/100\n",
            "521/521 [==============================] - 1s 1ms/step - loss: 4.0111e-04 - mse: 4.0111e-04 - val_loss: 2.9290e-04 - val_mse: 2.9290e-04\n",
            "Epoch 74/100\n",
            "521/521 [==============================] - 1s 1ms/step - loss: 3.7759e-04 - mse: 3.7759e-04 - val_loss: 2.4726e-04 - val_mse: 2.4726e-04\n",
            "Epoch 75/100\n",
            "521/521 [==============================] - 1s 1ms/step - loss: 3.5120e-04 - mse: 3.5120e-04 - val_loss: 2.5873e-04 - val_mse: 2.5873e-04\n",
            "Epoch 76/100\n",
            "521/521 [==============================] - 1s 1ms/step - loss: 3.6812e-04 - mse: 3.6812e-04 - val_loss: 2.3394e-04 - val_mse: 2.3394e-04\n",
            "Epoch 77/100\n",
            "521/521 [==============================] - 1s 1ms/step - loss: 3.4567e-04 - mse: 3.4567e-04 - val_loss: 2.3723e-04 - val_mse: 2.3723e-04\n",
            "Epoch 78/100\n",
            "521/521 [==============================] - 1s 1ms/step - loss: 3.7615e-04 - mse: 3.7615e-04 - val_loss: 4.8079e-04 - val_mse: 4.8079e-04\n",
            "Epoch 79/100\n",
            "521/521 [==============================] - 1s 1ms/step - loss: 3.5541e-04 - mse: 3.5541e-04 - val_loss: 2.4497e-04 - val_mse: 2.4497e-04\n",
            "Epoch 80/100\n",
            "521/521 [==============================] - 1s 1ms/step - loss: 3.4642e-04 - mse: 3.4642e-04 - val_loss: 4.4671e-04 - val_mse: 4.4671e-04\n",
            "Epoch 81/100\n",
            "521/521 [==============================] - 1s 1ms/step - loss: 3.5194e-04 - mse: 3.5194e-04 - val_loss: 3.1922e-04 - val_mse: 3.1922e-04\n",
            "Epoch 82/100\n",
            "521/521 [==============================] - 1s 1ms/step - loss: 3.8927e-04 - mse: 3.8927e-04 - val_loss: 3.3154e-04 - val_mse: 3.3154e-04\n",
            "Epoch 83/100\n",
            "521/521 [==============================] - 1s 1ms/step - loss: 3.5651e-04 - mse: 3.5651e-04 - val_loss: 3.1694e-04 - val_mse: 3.1694e-04\n",
            "Epoch 84/100\n",
            "521/521 [==============================] - 1s 1ms/step - loss: 3.6661e-04 - mse: 3.6661e-04 - val_loss: 3.0417e-04 - val_mse: 3.0417e-04\n",
            "Epoch 85/100\n",
            "521/521 [==============================] - 1s 1ms/step - loss: 3.2411e-04 - mse: 3.2411e-04 - val_loss: 3.3834e-04 - val_mse: 3.3834e-04\n",
            "Epoch 86/100\n",
            "521/521 [==============================] - 1s 1ms/step - loss: 3.4304e-04 - mse: 3.4304e-04 - val_loss: 4.1065e-04 - val_mse: 4.1065e-04\n",
            "Epoch 87/100\n",
            "521/521 [==============================] - 1s 1ms/step - loss: 3.9526e-04 - mse: 3.9526e-04 - val_loss: 3.7837e-04 - val_mse: 3.7837e-04\n",
            "Epoch 88/100\n",
            "521/521 [==============================] - 1s 1ms/step - loss: 3.6585e-04 - mse: 3.6585e-04 - val_loss: 2.8464e-04 - val_mse: 2.8464e-04\n",
            "Epoch 89/100\n",
            "521/521 [==============================] - 1s 1ms/step - loss: 3.3852e-04 - mse: 3.3852e-04 - val_loss: 3.1619e-04 - val_mse: 3.1619e-04\n",
            "Epoch 90/100\n",
            "521/521 [==============================] - 1s 1ms/step - loss: 3.4000e-04 - mse: 3.4000e-04 - val_loss: 2.7239e-04 - val_mse: 2.7239e-04\n",
            "Epoch 91/100\n",
            "521/521 [==============================] - 1s 1ms/step - loss: 3.7238e-04 - mse: 3.7238e-04 - val_loss: 2.6729e-04 - val_mse: 2.6729e-04\n",
            "Epoch 92/100\n",
            "521/521 [==============================] - 1s 1ms/step - loss: 3.5723e-04 - mse: 3.5723e-04 - val_loss: 2.3006e-04 - val_mse: 2.3006e-04\n",
            "Epoch 93/100\n",
            "521/521 [==============================] - 1s 1ms/step - loss: 3.8020e-04 - mse: 3.8020e-04 - val_loss: 2.2508e-04 - val_mse: 2.2508e-04\n",
            "Epoch 94/100\n",
            "521/521 [==============================] - 1s 1ms/step - loss: 3.6182e-04 - mse: 3.6182e-04 - val_loss: 3.5143e-04 - val_mse: 3.5143e-04\n",
            "Epoch 95/100\n",
            "521/521 [==============================] - 1s 1ms/step - loss: 3.6097e-04 - mse: 3.6097e-04 - val_loss: 2.7479e-04 - val_mse: 2.7479e-04\n",
            "Epoch 96/100\n",
            "521/521 [==============================] - 1s 1ms/step - loss: 3.3389e-04 - mse: 3.3389e-04 - val_loss: 3.5656e-04 - val_mse: 3.5656e-04\n",
            "Epoch 97/100\n",
            "521/521 [==============================] - 1s 1ms/step - loss: 3.4443e-04 - mse: 3.4443e-04 - val_loss: 2.3784e-04 - val_mse: 2.3784e-04\n",
            "Epoch 98/100\n",
            "521/521 [==============================] - 1s 1ms/step - loss: 3.9737e-04 - mse: 3.9737e-04 - val_loss: 2.7897e-04 - val_mse: 2.7897e-04\n",
            "Epoch 99/100\n",
            "521/521 [==============================] - 1s 1ms/step - loss: 3.5388e-04 - mse: 3.5388e-04 - val_loss: 3.1794e-04 - val_mse: 3.1794e-04\n",
            "Epoch 100/100\n",
            "521/521 [==============================] - 1s 1ms/step - loss: 3.6339e-04 - mse: 3.6339e-04 - val_loss: 3.5446e-04 - val_mse: 3.5446e-04\n"
          ]
        },
        {
          "data": {
            "text/plain": [
              "<keras.callbacks.History at 0x285951cd448>"
            ]
          },
          "execution_count": 109,
          "metadata": {},
          "output_type": "execute_result"
        }
      ],
      "source": [
        "model = keras.models.Sequential()\n",
        "model.add(keras.layers.SimpleRNN(10, input_shape = (1, 25), activation = 'tanh'))\n",
        "model.add(keras.layers.Dense(1, activation = 'linear'))\n",
        "model.compile(optimizer = 'adam', metrics = 'mse', loss = 'mse')\n",
        "model.fit(np.expand_dims(x_train, axis = 1), y_train, epochs = 100, validation_data = (np.expand_dims(x_test, axis = 1),  y_test), batch_size = 5)"
      ]
    },
    {
      "cell_type": "code",
      "execution_count": null,
      "metadata": {
        "id": "YEtciuSWBh91",
        "outputId": "83e47992-63a5-459e-9fef-bc6d6b8608c8"
      },
      "outputs": [
        {
          "data": {
            "image/png": "[encoded data removed]",
            "text/plain": [
              "<Figure size 432x288 with 2 Axes>"
            ]
          },
          "metadata": {
            "needs_background": "light"
          },
          "output_type": "display_data"
        },
        {
          "name": "stdout",
          "output_type": "stream",
          "text": [
            "-0.01048823148573391 0.01563504255919639\n"
          ]
        }
      ],
      "source": [
        "y_pre_te = model.predict(np.expand_dims(x_test, axis = 1))\n",
        "plt.subplot(211)\n",
        "plt.plot(y_pre_te, 'b-')\n",
        "plt.plot(y_test, 'r-')\n",
        "plt.subplot(212)\n",
        "plt.plot(y_pre_te - y_test)\n",
        "plt.show()\n",
        "error = y_pre_te - y_test\n",
        "print(np.mean(error), np.std(error))"
      ]
    },
    {
      "cell_type": "markdown",
      "metadata": {
        "id": "-OBC0IVcBh93"
      },
      "source": [
        "## Modeling with MLP"
      ]
    },
    {
      "cell_type": "code",
      "execution_count": null,
      "metadata": {
        "id": "7QcI74eTBh93",
        "outputId": "4ab72ae1-0819-451c-b463-7a92fd0ca052"
      },
      "outputs": [
        {
          "name": "stdout",
          "output_type": "stream",
          "text": [
            "Epoch 1/100\n",
            "521/521 [==============================] - 1s 1ms/step - loss: 0.0448 - mse: 0.0448 - val_loss: 0.0070 - val_mse: 0.0070\n",
            "Epoch 2/100\n",
            "521/521 [==============================] - 0s 946us/step - loss: 0.0054 - mse: 0.0054 - val_loss: 0.0037 - val_mse: 0.0037\n",
            "Epoch 3/100\n",
            "521/521 [==============================] - 0s 904us/step - loss: 0.0035 - mse: 0.0035 - val_loss: 0.0030 - val_mse: 0.0030\n",
            "Epoch 4/100\n",
            "521/521 [==============================] - 0s 916us/step - loss: 0.0025 - mse: 0.0025 - val_loss: 0.0023 - val_mse: 0.0023\n",
            "Epoch 5/100\n",
            "521/521 [==============================] - 0s 939us/step - loss: 0.0018 - mse: 0.0018 - val_loss: 0.0014 - val_mse: 0.0014\n",
            "Epoch 6/100\n",
            "521/521 [==============================] - 0s 959us/step - loss: 0.0015 - mse: 0.0015 - val_loss: 0.0012 - val_mse: 0.0012\n",
            "Epoch 7/100\n",
            "521/521 [==============================] - 1s 1ms/step - loss: 0.0012 - mse: 0.0012 - val_loss: 8.5569e-04 - val_mse: 8.5569e-04\n",
            "Epoch 8/100\n",
            "521/521 [==============================] - 0s 946us/step - loss: 0.0011 - mse: 0.0011 - val_loss: 8.3886e-04 - val_mse: 8.3886e-04\n",
            "Epoch 9/100\n",
            "521/521 [==============================] - 1s 966us/step - loss: 9.6589e-04 - mse: 9.6589e-04 - val_loss: 7.5832e-04 - val_mse: 7.5832e-04\n",
            "Epoch 10/100\n",
            "521/521 [==============================] - 1s 1ms/step - loss: 8.4765e-04 - mse: 8.4765e-04 - val_loss: 0.0011 - val_mse: 0.0011\n",
            "Epoch 11/100\n",
            "521/521 [==============================] - 1s 1ms/step - loss: 8.1047e-04 - mse: 8.1047e-04 - val_loss: 7.2994e-04 - val_mse: 7.2994e-04\n",
            "Epoch 12/100\n",
            "521/521 [==============================] - 1s 967us/step - loss: 7.8260e-04 - mse: 7.8260e-04 - val_loss: 4.9314e-04 - val_mse: 4.9314e-04\n",
            "Epoch 13/100\n",
            "521/521 [==============================] - 1s 1ms/step - loss: 7.3175e-04 - mse: 7.3175e-04 - val_loss: 5.7821e-04 - val_mse: 5.7821e-04\n",
            "Epoch 14/100\n",
            "521/521 [==============================] - 0s 916us/step - loss: 7.7446e-04 - mse: 7.7446e-04 - val_loss: 6.0578e-04 - val_mse: 6.0578e-04\n",
            "Epoch 15/100\n",
            "521/521 [==============================] - 1s 974us/step - loss: 6.8777e-04 - mse: 6.8777e-04 - val_loss: 4.2700e-04 - val_mse: 4.2700e-04\n",
            "Epoch 16/100\n",
            "521/521 [==============================] - 1s 986us/step - loss: 6.7721e-04 - mse: 6.7721e-04 - val_loss: 7.4295e-04 - val_mse: 7.4295e-04\n",
            "Epoch 17/100\n",
            "521/521 [==============================] - 1s 1ms/step - loss: 6.8219e-04 - mse: 6.8219e-04 - val_loss: 4.7914e-04 - val_mse: 4.7914e-04\n",
            "Epoch 18/100\n",
            "521/521 [==============================] - 1s 1ms/step - loss: 6.8394e-04 - mse: 6.8394e-04 - val_loss: 3.9398e-04 - val_mse: 3.9398e-04\n",
            "Epoch 19/100\n",
            "521/521 [==============================] - 1s 1ms/step - loss: 6.2066e-04 - mse: 6.2066e-04 - val_loss: 4.0113e-04 - val_mse: 4.0113e-04\n",
            "Epoch 20/100\n",
            "521/521 [==============================] - 1s 1ms/step - loss: 6.2423e-04 - mse: 6.2423e-04 - val_loss: 7.1894e-04 - val_mse: 7.1894e-04\n",
            "Epoch 21/100\n",
            "521/521 [==============================] - 1s 1ms/step - loss: 6.0120e-04 - mse: 6.0120e-04 - val_loss: 4.0088e-04 - val_mse: 4.0088e-04\n",
            "Epoch 22/100\n",
            "521/521 [==============================] - 1s 996us/step - loss: 6.3687e-04 - mse: 6.3687e-04 - val_loss: 3.2964e-04 - val_mse: 3.2964e-04\n",
            "Epoch 23/100\n",
            "521/521 [==============================] - 1s 997us/step - loss: 5.5815e-04 - mse: 5.5815e-04 - val_loss: 4.9819e-04 - val_mse: 4.9819e-04\n",
            "Epoch 24/100\n",
            "521/521 [==============================] - 1s 973us/step - loss: 6.1107e-04 - mse: 6.1107e-04 - val_loss: 8.4595e-04 - val_mse: 8.4595e-04\n",
            "Epoch 25/100\n",
            "521/521 [==============================] - 1s 1ms/step - loss: 5.7930e-04 - mse: 5.7930e-04 - val_loss: 5.5796e-04 - val_mse: 5.5796e-04\n",
            "Epoch 26/100\n",
            "521/521 [==============================] - 1s 1ms/step - loss: 5.7942e-04 - mse: 5.7942e-04 - val_loss: 3.6388e-04 - val_mse: 3.6388e-04\n",
            "Epoch 27/100\n",
            "521/521 [==============================] - 1s 1ms/step - loss: 5.4407e-04 - mse: 5.4407e-04 - val_loss: 3.3243e-04 - val_mse: 3.3243e-04\n",
            "Epoch 28/100\n",
            "521/521 [==============================] - 1s 1ms/step - loss: 5.4717e-04 - mse: 5.4717e-04 - val_loss: 3.4737e-04 - val_mse: 3.4737e-04\n",
            "Epoch 29/100\n",
            "521/521 [==============================] - 1s 1ms/step - loss: 5.5928e-04 - mse: 5.5928e-04 - val_loss: 3.0265e-04 - val_mse: 3.0265e-04\n",
            "Epoch 30/100\n",
            "521/521 [==============================] - 0s 951us/step - loss: 5.5305e-04 - mse: 5.5305e-04 - val_loss: 5.1283e-04 - val_mse: 5.1283e-04\n",
            "Epoch 31/100\n",
            "521/521 [==============================] - 1s 977us/step - loss: 5.6245e-04 - mse: 5.6245e-04 - val_loss: 4.0182e-04 - val_mse: 4.0182e-04\n",
            "Epoch 32/100\n",
            "521/521 [==============================] - 1s 1ms/step - loss: 5.4853e-04 - mse: 5.4853e-04 - val_loss: 7.5917e-04 - val_mse: 7.5917e-04\n",
            "Epoch 33/100\n",
            "521/521 [==============================] - 1s 987us/step - loss: 5.3768e-04 - mse: 5.3768e-04 - val_loss: 3.4370e-04 - val_mse: 3.4370e-04\n",
            "Epoch 34/100\n",
            "521/521 [==============================] - 1s 1ms/step - loss: 5.1442e-04 - mse: 5.1442e-04 - val_loss: 3.0145e-04 - val_mse: 3.0145e-04\n",
            "Epoch 35/100\n",
            "521/521 [==============================] - 1s 1ms/step - loss: 5.2518e-04 - mse: 5.2518e-04 - val_loss: 3.4206e-04 - val_mse: 3.4206e-04\n",
            "Epoch 36/100\n",
            "521/521 [==============================] - 1s 1ms/step - loss: 4.9273e-04 - mse: 4.9273e-04 - val_loss: 2.8783e-04 - val_mse: 2.8783e-04\n",
            "Epoch 37/100\n",
            "521/521 [==============================] - 1s 1ms/step - loss: 5.2438e-04 - mse: 5.2438e-04 - val_loss: 5.3887e-04 - val_mse: 5.3887e-04\n",
            "Epoch 38/100\n",
            "521/521 [==============================] - 0s 940us/step - loss: 4.8665e-04 - mse: 4.8665e-04 - val_loss: 2.8307e-04 - val_mse: 2.8307e-04\n",
            "Epoch 39/100\n",
            "521/521 [==============================] - 0s 917us/step - loss: 5.2180e-04 - mse: 5.2180e-04 - val_loss: 4.6060e-04 - val_mse: 4.6060e-04\n",
            "Epoch 40/100\n",
            "521/521 [==============================] - 0s 900us/step - loss: 4.6052e-04 - mse: 4.6052e-04 - val_loss: 2.9370e-04 - val_mse: 2.9370e-04\n",
            "Epoch 41/100\n",
            "521/521 [==============================] - 0s 899us/step - loss: 4.8783e-04 - mse: 4.8783e-04 - val_loss: 3.8649e-04 - val_mse: 3.8649e-04\n",
            "Epoch 42/100\n",
            "521/521 [==============================] - 0s 890us/step - loss: 4.7875e-04 - mse: 4.7875e-04 - val_loss: 3.6150e-04 - val_mse: 3.6150e-04\n",
            "Epoch 43/100\n",
            "521/521 [==============================] - 0s 881us/step - loss: 5.0046e-04 - mse: 5.0046e-04 - val_loss: 3.0244e-04 - val_mse: 3.0244e-04\n",
            "Epoch 44/100\n",
            "521/521 [==============================] - 0s 875us/step - loss: 4.5340e-04 - mse: 4.5340e-04 - val_loss: 5.0979e-04 - val_mse: 5.0979e-04\n",
            "Epoch 45/100\n",
            "521/521 [==============================] - 0s 906us/step - loss: 4.8448e-04 - mse: 4.8448e-04 - val_loss: 3.2935e-04 - val_mse: 3.2935e-04\n",
            "Epoch 46/100\n",
            "521/521 [==============================] - 0s 917us/step - loss: 4.8186e-04 - mse: 4.8186e-04 - val_loss: 5.6848e-04 - val_mse: 5.6848e-04\n",
            "Epoch 47/100\n",
            "521/521 [==============================] - 0s 910us/step - loss: 4.6769e-04 - mse: 4.6769e-04 - val_loss: 4.1863e-04 - val_mse: 4.1863e-04\n",
            "Epoch 48/100\n",
            "521/521 [==============================] - 0s 906us/step - loss: 4.7662e-04 - mse: 4.7662e-04 - val_loss: 3.9803e-04 - val_mse: 3.9803e-04\n",
            "Epoch 49/100\n",
            "521/521 [==============================] - 0s 907us/step - loss: 4.9958e-04 - mse: 4.9958e-04 - val_loss: 2.8829e-04 - val_mse: 2.8829e-04\n",
            "Epoch 50/100\n",
            "521/521 [==============================] - 0s 871us/step - loss: 4.3102e-04 - mse: 4.3102e-04 - val_loss: 3.1130e-04 - val_mse: 3.1130e-04\n",
            "Epoch 51/100\n",
            "521/521 [==============================] - 0s 913us/step - loss: 4.8651e-04 - mse: 4.8651e-04 - val_loss: 3.3842e-04 - val_mse: 3.3842e-04\n",
            "Epoch 52/100\n",
            "521/521 [==============================] - 0s 884us/step - loss: 4.3474e-04 - mse: 4.3474e-04 - val_loss: 3.0696e-04 - val_mse: 3.0696e-04\n",
            "Epoch 53/100\n",
            "521/521 [==============================] - 0s 877us/step - loss: 4.3681e-04 - mse: 4.3681e-04 - val_loss: 2.7294e-04 - val_mse: 2.7294e-04\n",
            "Epoch 54/100\n",
            "521/521 [==============================] - 0s 883us/step - loss: 4.6994e-04 - mse: 4.6994e-04 - val_loss: 3.0608e-04 - val_mse: 3.0608e-04\n",
            "Epoch 55/100\n",
            "521/521 [==============================] - 0s 886us/step - loss: 4.3802e-04 - mse: 4.3802e-04 - val_loss: 3.1641e-04 - val_mse: 3.1641e-04\n",
            "Epoch 56/100\n"
          ]
        },
        {
          "name": "stdout",
          "output_type": "stream",
          "text": [
            "521/521 [==============================] - 0s 893us/step - loss: 5.1268e-04 - mse: 5.1268e-04 - val_loss: 7.1487e-04 - val_mse: 7.1487e-04\n",
            "Epoch 57/100\n",
            "521/521 [==============================] - 0s 949us/step - loss: 4.3383e-04 - mse: 4.3383e-04 - val_loss: 2.5413e-04 - val_mse: 2.5413e-04\n",
            "Epoch 58/100\n",
            "521/521 [==============================] - 0s 878us/step - loss: 4.4600e-04 - mse: 4.4600e-04 - val_loss: 2.6337e-04 - val_mse: 2.6337e-04\n",
            "Epoch 59/100\n",
            "521/521 [==============================] - 0s 946us/step - loss: 4.3813e-04 - mse: 4.3813e-04 - val_loss: 2.5324e-04 - val_mse: 2.5324e-04\n",
            "Epoch 60/100\n",
            "521/521 [==============================] - 0s 857us/step - loss: 4.3061e-04 - mse: 4.3061e-04 - val_loss: 2.6478e-04 - val_mse: 2.6478e-04\n",
            "Epoch 61/100\n",
            "521/521 [==============================] - 0s 884us/step - loss: 4.4567e-04 - mse: 4.4567e-04 - val_loss: 2.8946e-04 - val_mse: 2.8946e-04\n",
            "Epoch 62/100\n",
            "521/521 [==============================] - 0s 872us/step - loss: 4.3435e-04 - mse: 4.3435e-04 - val_loss: 2.5981e-04 - val_mse: 2.5981e-04\n",
            "Epoch 63/100\n",
            "521/521 [==============================] - 0s 894us/step - loss: 4.4280e-04 - mse: 4.4280e-04 - val_loss: 2.8247e-04 - val_mse: 2.8247e-04\n",
            "Epoch 64/100\n",
            "521/521 [==============================] - 1s 1ms/step - loss: 4.2508e-04 - mse: 4.2508e-04 - val_loss: 2.8212e-04 - val_mse: 2.8212e-04\n",
            "Epoch 65/100\n",
            "521/521 [==============================] - 0s 872us/step - loss: 4.9623e-04 - mse: 4.9623e-04 - val_loss: 3.5800e-04 - val_mse: 3.5800e-04\n",
            "Epoch 66/100\n",
            "521/521 [==============================] - 1s 1ms/step - loss: 4.4460e-04 - mse: 4.4460e-04 - val_loss: 2.7756e-04 - val_mse: 2.7756e-04\n",
            "Epoch 67/100\n",
            "521/521 [==============================] - 1s 1ms/step - loss: 4.3342e-04 - mse: 4.3342e-04 - val_loss: 2.5637e-04 - val_mse: 2.5637e-04\n",
            "Epoch 68/100\n",
            "521/521 [==============================] - 1s 1ms/step - loss: 4.2988e-04 - mse: 4.2988e-04 - val_loss: 3.1613e-04 - val_mse: 3.1613e-04\n",
            "Epoch 69/100\n",
            "521/521 [==============================] - 1s 1ms/step - loss: 4.1199e-04 - mse: 4.1199e-04 - val_loss: 5.6210e-04 - val_mse: 5.6210e-04\n",
            "Epoch 70/100\n",
            "521/521 [==============================] - 1s 1ms/step - loss: 4.1626e-04 - mse: 4.1626e-04 - val_loss: 6.6580e-04 - val_mse: 6.6580e-04\n",
            "Epoch 71/100\n",
            "521/521 [==============================] - 1s 1ms/step - loss: 4.0660e-04 - mse: 4.0660e-04 - val_loss: 3.3063e-04 - val_mse: 3.3063e-04\n",
            "Epoch 72/100\n",
            "521/521 [==============================] - 1s 1ms/step - loss: 4.1599e-04 - mse: 4.1599e-04 - val_loss: 2.6365e-04 - val_mse: 2.6365e-04\n",
            "Epoch 73/100\n",
            "521/521 [==============================] - 1s 1ms/step - loss: 4.1536e-04 - mse: 4.1536e-04 - val_loss: 2.3185e-04 - val_mse: 2.3185e-04\n",
            "Epoch 74/100\n",
            "521/521 [==============================] - 1s 1ms/step - loss: 4.4872e-04 - mse: 4.4872e-04 - val_loss: 2.4515e-04 - val_mse: 2.4515e-04\n",
            "Epoch 75/100\n",
            "521/521 [==============================] - 1s 1ms/step - loss: 3.9360e-04 - mse: 3.9360e-04 - val_loss: 2.5583e-04 - val_mse: 2.5583e-04\n",
            "Epoch 76/100\n",
            "521/521 [==============================] - 1s 1ms/step - loss: 4.1735e-04 - mse: 4.1735e-04 - val_loss: 3.9082e-04 - val_mse: 3.9082e-04\n",
            "Epoch 77/100\n",
            "521/521 [==============================] - 1s 1ms/step - loss: 4.0478e-04 - mse: 4.0478e-04 - val_loss: 2.7360e-04 - val_mse: 2.7360e-04\n",
            "Epoch 78/100\n",
            "521/521 [==============================] - 1s 1ms/step - loss: 4.5416e-04 - mse: 4.5416e-04 - val_loss: 4.9041e-04 - val_mse: 4.9041e-04\n",
            "Epoch 79/100\n",
            "521/521 [==============================] - 1s 1ms/step - loss: 3.9026e-04 - mse: 3.9026e-04 - val_loss: 2.7126e-04 - val_mse: 2.7126e-04\n",
            "Epoch 80/100\n",
            "521/521 [==============================] - 1s 1ms/step - loss: 3.9483e-04 - mse: 3.9483e-04 - val_loss: 2.9932e-04 - val_mse: 2.9932e-04\n",
            "Epoch 81/100\n",
            "521/521 [==============================] - 1s 1ms/step - loss: 4.0336e-04 - mse: 4.0336e-04 - val_loss: 5.1882e-04 - val_mse: 5.1882e-04\n",
            "Epoch 82/100\n",
            "521/521 [==============================] - 1s 972us/step - loss: 4.0419e-04 - mse: 4.0419e-04 - val_loss: 2.3581e-04 - val_mse: 2.3581e-04\n",
            "Epoch 83/100\n",
            "521/521 [==============================] - 1s 1ms/step - loss: 4.1507e-04 - mse: 4.1507e-04 - val_loss: 2.2897e-04 - val_mse: 2.2897e-04\n",
            "Epoch 84/100\n",
            "521/521 [==============================] - 1s 1ms/step - loss: 4.0718e-04 - mse: 4.0718e-04 - val_loss: 3.5658e-04 - val_mse: 3.5658e-04\n",
            "Epoch 85/100\n",
            "521/521 [==============================] - 1s 1ms/step - loss: 3.8895e-04 - mse: 3.8895e-04 - val_loss: 7.5487e-04 - val_mse: 7.5487e-04\n",
            "Epoch 86/100\n",
            "521/521 [==============================] - 1s 1ms/step - loss: 4.0714e-04 - mse: 4.0714e-04 - val_loss: 2.7408e-04 - val_mse: 2.7408e-04\n",
            "Epoch 87/100\n",
            "521/521 [==============================] - 1s 1ms/step - loss: 4.1268e-04 - mse: 4.1268e-04 - val_loss: 2.5985e-04 - val_mse: 2.5985e-04\n",
            "Epoch 88/100\n",
            "521/521 [==============================] - 1s 1ms/step - loss: 4.2159e-04 - mse: 4.2159e-04 - val_loss: 2.4994e-04 - val_mse: 2.4994e-04\n",
            "Epoch 89/100\n",
            "521/521 [==============================] - 0s 930us/step - loss: 3.7685e-04 - mse: 3.7685e-04 - val_loss: 5.4678e-04 - val_mse: 5.4678e-04\n",
            "Epoch 90/100\n",
            "521/521 [==============================] - 1s 1ms/step - loss: 4.4645e-04 - mse: 4.4645e-04 - val_loss: 2.6250e-04 - val_mse: 2.6250e-04\n",
            "Epoch 91/100\n",
            "521/521 [==============================] - 1s 987us/step - loss: 4.0846e-04 - mse: 4.0846e-04 - val_loss: 5.6914e-04 - val_mse: 5.6914e-04\n",
            "Epoch 92/100\n",
            "521/521 [==============================] - 1s 1ms/step - loss: 3.9709e-04 - mse: 3.9709e-04 - val_loss: 2.9941e-04 - val_mse: 2.9941e-04\n",
            "Epoch 93/100\n",
            "521/521 [==============================] - 1s 974us/step - loss: 3.8537e-04 - mse: 3.8537e-04 - val_loss: 3.2266e-04 - val_mse: 3.2266e-04\n",
            "Epoch 94/100\n",
            "521/521 [==============================] - 1s 1ms/step - loss: 3.9583e-04 - mse: 3.9583e-04 - val_loss: 6.8605e-04 - val_mse: 6.8605e-04\n",
            "Epoch 95/100\n",
            "521/521 [==============================] - 1s 970us/step - loss: 3.8060e-04 - mse: 3.8060e-04 - val_loss: 2.4499e-04 - val_mse: 2.4499e-04\n",
            "Epoch 96/100\n",
            "521/521 [==============================] - 1s 961us/step - loss: 3.6379e-04 - mse: 3.6379e-04 - val_loss: 2.4292e-04 - val_mse: 2.4292e-04\n",
            "Epoch 97/100\n",
            "521/521 [==============================] - 1s 1ms/step - loss: 3.8437e-04 - mse: 3.8437e-04 - val_loss: 2.4783e-04 - val_mse: 2.4783e-04\n",
            "Epoch 98/100\n",
            "521/521 [==============================] - 1s 1ms/step - loss: 4.5414e-04 - mse: 4.5414e-04 - val_loss: 7.6813e-04 - val_mse: 7.6813e-04\n",
            "Epoch 99/100\n",
            "521/521 [==============================] - 0s 921us/step - loss: 3.9118e-04 - mse: 3.9118e-04 - val_loss: 3.7572e-04 - val_mse: 3.7572e-04\n",
            "Epoch 100/100\n",
            "521/521 [==============================] - 1s 1ms/step - loss: 4.0303e-04 - mse: 4.0303e-04 - val_loss: 4.6195e-04 - val_mse: 4.6195e-04\n"
          ]
        },
        {
          "data": {
            "text/plain": [
              "<keras.callbacks.History at 0x28594ef8788>"
            ]
          },
          "execution_count": 113,
          "metadata": {},
          "output_type": "execute_result"
        }
      ],
      "source": [
        "model = keras.models.Sequential()\n",
        "model.add(keras.layers.Dense(10, input_shape = (1, 25), activation = 'tanh', name = 'first_layer'))\n",
        "model.add(keras.layers.Dense(1, activation = 'linear', name = 'output'))\n",
        "model.compile(optimizer = 'adam', metrics = 'mse', loss = 'mse')\n",
        "model.fit(np.expand_dims(x_train, axis = 1), y_train, epochs = 100, validation_data = (np.expand_dims(x_test, axis = 1), y_test), batch_size = 5)"
      ]
    },
    {
      "cell_type": "code",
      "execution_count": null,
      "metadata": {
        "id": "qupqChSBBh93",
        "outputId": "989a33b7-ee45-46fb-c50b-1de3216864e5"
      },
      "outputs": [
        {
          "data": {
            "image/png": "[encoded data removed]",
            "text/plain": [
              "<Figure size 432x288 with 2 Axes>"
            ]
          },
          "metadata": {
            "needs_background": "light"
          },
          "output_type": "display_data"
        },
        {
          "name": "stdout",
          "output_type": "stream",
          "text": [
            "-0.010553125128100912 0.01872370134269064\n"
          ]
        }
      ],
      "source": [
        "y_pre_te = model.predict(np.expand_dims(x_test, axis = 1))\n",
        "error = y_pre_te.reshape(1116, 1) - y_test\n",
        "plt.subplot(211)\n",
        "plt.plot(y_pre_te.reshape(1116, 1), 'b-')\n",
        "plt.plot(y_test, 'r-')\n",
        "plt.subplot(212)\n",
        "plt.plot(error)\n",
        "plt.show()\n",
        "print(np.mean(error), np.std(error))"
      ]
    },
    {
      "cell_type": "markdown",
      "metadata": {
        "id": "vno1gcyFBh94"
      },
      "source": [
        "## Modeling with LSTM"
      ]
    },
    {
      "cell_type": "code",
      "execution_count": null,
      "metadata": {
        "id": "hOHbEns7Bh95",
        "outputId": "37e90261-5371-470d-dbe9-25df0ce8a12a"
      },
      "outputs": [
        {
          "name": "stdout",
          "output_type": "stream",
          "text": [
            "Epoch 1/100\n",
            "521/521 [==============================] - 2s 2ms/step - loss: 0.0396 - mse: 0.0396 - val_loss: 0.0062 - val_mse: 0.0062\n",
            "Epoch 2/100\n",
            "521/521 [==============================] - 1s 2ms/step - loss: 0.0047 - mse: 0.0047 - val_loss: 0.0027 - val_mse: 0.0027\n",
            "Epoch 3/100\n",
            "521/521 [==============================] - 1s 2ms/step - loss: 0.0025 - mse: 0.0025 - val_loss: 0.0018 - val_mse: 0.0018\n",
            "Epoch 4/100\n",
            "521/521 [==============================] - 1s 2ms/step - loss: 0.0018 - mse: 0.0018 - val_loss: 0.0017 - val_mse: 0.0017\n",
            "Epoch 5/100\n",
            "521/521 [==============================] - 1s 2ms/step - loss: 0.0015 - mse: 0.0015 - val_loss: 0.0012 - val_mse: 0.0012\n",
            "Epoch 6/100\n",
            "521/521 [==============================] - 1s 2ms/step - loss: 0.0012 - mse: 0.0012 - val_loss: 9.8990e-04 - val_mse: 9.8990e-04\n",
            "Epoch 7/100\n",
            "521/521 [==============================] - 1s 2ms/step - loss: 0.0011 - mse: 0.0011 - val_loss: 8.4702e-04 - val_mse: 8.4702e-04\n",
            "Epoch 8/100\n",
            "521/521 [==============================] - 1s 2ms/step - loss: 0.0010 - mse: 0.0010 - val_loss: 7.5482e-04 - val_mse: 7.5482e-04\n",
            "Epoch 9/100\n",
            "521/521 [==============================] - 1s 3ms/step - loss: 9.1261e-04 - mse: 9.1261e-04 - val_loss: 7.2238e-04 - val_mse: 7.2238e-04\n",
            "Epoch 10/100\n",
            "521/521 [==============================] - 1s 2ms/step - loss: 8.4904e-04 - mse: 8.4904e-04 - val_loss: 6.7378e-04 - val_mse: 6.7378e-04\n",
            "Epoch 11/100\n",
            "521/521 [==============================] - 1s 2ms/step - loss: 7.7977e-04 - mse: 7.7977e-04 - val_loss: 6.3669e-04 - val_mse: 6.3669e-04\n",
            "Epoch 12/100\n",
            "521/521 [==============================] - 1s 2ms/step - loss: 7.2872e-04 - mse: 7.2872e-04 - val_loss: 6.0706e-04 - val_mse: 6.0706e-04\n",
            "Epoch 13/100\n",
            "521/521 [==============================] - 1s 2ms/step - loss: 6.7074e-04 - mse: 6.7074e-04 - val_loss: 9.5071e-04 - val_mse: 9.5071e-04\n",
            "Epoch 14/100\n",
            "521/521 [==============================] - 1s 2ms/step - loss: 7.1267e-04 - mse: 7.1267e-04 - val_loss: 3.9708e-04 - val_mse: 3.9708e-04\n",
            "Epoch 15/100\n",
            "521/521 [==============================] - 1s 2ms/step - loss: 6.3005e-04 - mse: 6.3005e-04 - val_loss: 3.8207e-04 - val_mse: 3.8207e-04\n",
            "Epoch 16/100\n",
            "521/521 [==============================] - 1s 2ms/step - loss: 5.9854e-04 - mse: 5.9854e-04 - val_loss: 5.5499e-04 - val_mse: 5.5499e-04\n",
            "Epoch 17/100\n",
            "521/521 [==============================] - 1s 2ms/step - loss: 5.6424e-04 - mse: 5.6424e-04 - val_loss: 5.0978e-04 - val_mse: 5.0978e-04\n",
            "Epoch 18/100\n",
            "521/521 [==============================] - 1s 2ms/step - loss: 5.3224e-04 - mse: 5.3224e-04 - val_loss: 4.8605e-04 - val_mse: 4.8605e-04\n",
            "Epoch 19/100\n",
            "521/521 [==============================] - 1s 2ms/step - loss: 5.3769e-04 - mse: 5.3769e-04 - val_loss: 3.2936e-04 - val_mse: 3.2936e-04\n",
            "Epoch 20/100\n",
            "521/521 [==============================] - 1s 2ms/step - loss: 5.0774e-04 - mse: 5.0774e-04 - val_loss: 4.0967e-04 - val_mse: 4.0967e-04\n",
            "Epoch 21/100\n",
            "521/521 [==============================] - 1s 2ms/step - loss: 4.9670e-04 - mse: 4.9670e-04 - val_loss: 0.0011 - val_mse: 0.0011\n",
            "Epoch 22/100\n",
            "521/521 [==============================] - 1s 2ms/step - loss: 5.2777e-04 - mse: 5.2777e-04 - val_loss: 7.9911e-04 - val_mse: 7.9911e-04\n",
            "Epoch 23/100\n",
            "521/521 [==============================] - 1s 2ms/step - loss: 5.2578e-04 - mse: 5.2578e-04 - val_loss: 7.7287e-04 - val_mse: 7.7287e-04\n",
            "Epoch 24/100\n",
            "521/521 [==============================] - 1s 2ms/step - loss: 4.8218e-04 - mse: 4.8218e-04 - val_loss: 3.8648e-04 - val_mse: 3.8648e-04\n",
            "Epoch 25/100\n",
            "521/521 [==============================] - 1s 2ms/step - loss: 4.9778e-04 - mse: 4.9778e-04 - val_loss: 2.8816e-04 - val_mse: 2.8816e-04\n",
            "Epoch 26/100\n",
            "521/521 [==============================] - 1s 2ms/step - loss: 4.6656e-04 - mse: 4.6656e-04 - val_loss: 3.3097e-04 - val_mse: 3.3097e-04\n",
            "Epoch 27/100\n",
            "521/521 [==============================] - 1s 2ms/step - loss: 4.8698e-04 - mse: 4.8698e-04 - val_loss: 2.8540e-04 - val_mse: 2.8540e-04\n",
            "Epoch 28/100\n",
            "521/521 [==============================] - 1s 3ms/step - loss: 4.5797e-04 - mse: 4.5797e-04 - val_loss: 3.0488e-04 - val_mse: 3.0488e-04\n",
            "Epoch 29/100\n",
            "521/521 [==============================] - 2s 3ms/step - loss: 4.7424e-04 - mse: 4.7424e-04 - val_loss: 3.2547e-04 - val_mse: 3.2547e-04\n",
            "Epoch 30/100\n",
            "521/521 [==============================] - 1s 2ms/step - loss: 4.3189e-04 - mse: 4.3189e-04 - val_loss: 4.4961e-04 - val_mse: 4.4961e-04\n",
            "Epoch 31/100\n",
            "521/521 [==============================] - 1s 2ms/step - loss: 4.0597e-04 - mse: 4.0597e-04 - val_loss: 2.6453e-04 - val_mse: 2.6453e-04\n",
            "Epoch 32/100\n",
            "521/521 [==============================] - 1s 2ms/step - loss: 4.4252e-04 - mse: 4.4252e-04 - val_loss: 2.6597e-04 - val_mse: 2.6597e-04\n",
            "Epoch 33/100\n",
            "521/521 [==============================] - 1s 2ms/step - loss: 4.6574e-04 - mse: 4.6574e-04 - val_loss: 3.3176e-04 - val_mse: 3.3176e-04\n",
            "Epoch 34/100\n",
            "521/521 [==============================] - 1s 2ms/step - loss: 4.3627e-04 - mse: 4.3627e-04 - val_loss: 3.8926e-04 - val_mse: 3.8926e-04\n",
            "Epoch 35/100\n",
            "521/521 [==============================] - 1s 2ms/step - loss: 4.2281e-04 - mse: 4.2281e-04 - val_loss: 2.8143e-04 - val_mse: 2.8143e-04\n",
            "Epoch 36/100\n",
            "521/521 [==============================] - 1s 2ms/step - loss: 4.5099e-04 - mse: 4.5099e-04 - val_loss: 4.3263e-04 - val_mse: 4.3263e-04\n",
            "Epoch 37/100\n",
            "521/521 [==============================] - 1s 2ms/step - loss: 4.0114e-04 - mse: 4.0114e-04 - val_loss: 2.9044e-04 - val_mse: 2.9044e-04\n",
            "Epoch 38/100\n",
            "521/521 [==============================] - 1s 2ms/step - loss: 4.1606e-04 - mse: 4.1606e-04 - val_loss: 3.2978e-04 - val_mse: 3.2978e-04\n",
            "Epoch 39/100\n",
            "521/521 [==============================] - 1s 1ms/step - loss: 3.9463e-04 - mse: 3.9463e-04 - val_loss: 5.1837e-04 - val_mse: 5.1837e-04\n",
            "Epoch 40/100\n",
            "521/521 [==============================] - 1s 2ms/step - loss: 3.9845e-04 - mse: 3.9845e-04 - val_loss: 2.6783e-04 - val_mse: 2.6783e-04\n",
            "Epoch 41/100\n",
            "521/521 [==============================] - 1s 2ms/step - loss: 4.1311e-04 - mse: 4.1311e-04 - val_loss: 2.8257e-04 - val_mse: 2.8257e-04\n",
            "Epoch 42/100\n",
            "521/521 [==============================] - 1s 2ms/step - loss: 3.8735e-04 - mse: 3.8735e-04 - val_loss: 8.1299e-04 - val_mse: 8.1299e-04\n",
            "Epoch 43/100\n",
            "521/521 [==============================] - 1s 2ms/step - loss: 3.9205e-04 - mse: 3.9205e-04 - val_loss: 2.5326e-04 - val_mse: 2.5326e-04\n",
            "Epoch 44/100\n",
            "521/521 [==============================] - 1s 2ms/step - loss: 4.0724e-04 - mse: 4.0724e-04 - val_loss: 3.3609e-04 - val_mse: 3.3609e-04\n",
            "Epoch 45/100\n",
            "521/521 [==============================] - 1s 2ms/step - loss: 4.1402e-04 - mse: 4.1402e-04 - val_loss: 2.5783e-04 - val_mse: 2.5783e-04\n",
            "Epoch 46/100\n",
            "521/521 [==============================] - 1s 2ms/step - loss: 4.0756e-04 - mse: 4.0756e-04 - val_loss: 2.7180e-04 - val_mse: 2.7180e-04\n",
            "Epoch 47/100\n",
            "521/521 [==============================] - 1s 2ms/step - loss: 4.0579e-04 - mse: 4.0579e-04 - val_loss: 2.9489e-04 - val_mse: 2.9489e-04\n",
            "Epoch 48/100\n",
            "521/521 [==============================] - 1s 2ms/step - loss: 3.8651e-04 - mse: 3.8651e-04 - val_loss: 2.8673e-04 - val_mse: 2.8673e-04\n",
            "Epoch 49/100\n",
            "521/521 [==============================] - 1s 2ms/step - loss: 3.7199e-04 - mse: 3.7199e-04 - val_loss: 2.6267e-04 - val_mse: 2.6267e-04\n",
            "Epoch 50/100\n",
            "521/521 [==============================] - 1s 2ms/step - loss: 3.8421e-04 - mse: 3.8421e-04 - val_loss: 4.3007e-04 - val_mse: 4.3007e-04\n",
            "Epoch 51/100\n",
            "521/521 [==============================] - 1s 2ms/step - loss: 3.8405e-04 - mse: 3.8405e-04 - val_loss: 3.0291e-04 - val_mse: 3.0291e-04\n",
            "Epoch 52/100\n",
            "521/521 [==============================] - 1s 2ms/step - loss: 3.9253e-04 - mse: 3.9253e-04 - val_loss: 2.4169e-04 - val_mse: 2.4169e-04\n",
            "Epoch 53/100\n",
            "521/521 [==============================] - 1s 2ms/step - loss: 3.6226e-04 - mse: 3.6226e-04 - val_loss: 2.8477e-04 - val_mse: 2.8477e-04\n",
            "Epoch 54/100\n",
            "521/521 [==============================] - 1s 2ms/step - loss: 3.8392e-04 - mse: 3.8392e-04 - val_loss: 4.4288e-04 - val_mse: 4.4288e-04\n",
            "Epoch 55/100\n",
            "521/521 [==============================] - 1s 2ms/step - loss: 4.1054e-04 - mse: 4.1054e-04 - val_loss: 3.0323e-04 - val_mse: 3.0323e-04\n",
            "Epoch 56/100\n"
          ]
        },
        {
          "name": "stdout",
          "output_type": "stream",
          "text": [
            "521/521 [==============================] - 1s 2ms/step - loss: 3.9569e-04 - mse: 3.9569e-04 - val_loss: 3.1232e-04 - val_mse: 3.1232e-04\n",
            "Epoch 57/100\n",
            "521/521 [==============================] - 1s 2ms/step - loss: 3.8213e-04 - mse: 3.8213e-04 - val_loss: 6.7160e-04 - val_mse: 6.7160e-04\n",
            "Epoch 58/100\n",
            "521/521 [==============================] - 1s 2ms/step - loss: 3.8518e-04 - mse: 3.8518e-04 - val_loss: 2.7368e-04 - val_mse: 2.7368e-04\n",
            "Epoch 59/100\n",
            "521/521 [==============================] - 1s 2ms/step - loss: 3.8461e-04 - mse: 3.8461e-04 - val_loss: 3.7462e-04 - val_mse: 3.7462e-04 - loss: 4.0470e-04 - mse: 4.0470e\n",
            "Epoch 60/100\n",
            "521/521 [==============================] - 1s 2ms/step - loss: 3.8875e-04 - mse: 3.8875e-04 - val_loss: 2.5173e-04 - val_mse: 2.5173e-04\n",
            "Epoch 61/100\n",
            "521/521 [==============================] - 1s 2ms/step - loss: 3.9574e-04 - mse: 3.9574e-04 - val_loss: 2.4678e-04 - val_mse: 2.4678e-04\n",
            "Epoch 62/100\n",
            "521/521 [==============================] - 1s 2ms/step - loss: 3.6346e-04 - mse: 3.6346e-04 - val_loss: 2.6242e-04 - val_mse: 2.6242e-04\n",
            "Epoch 63/100\n",
            "521/521 [==============================] - 1s 2ms/step - loss: 3.7808e-04 - mse: 3.7808e-04 - val_loss: 3.2375e-04 - val_mse: 3.2375e-04\n",
            "Epoch 64/100\n",
            "521/521 [==============================] - 1s 2ms/step - loss: 3.7737e-04 - mse: 3.7737e-04 - val_loss: 2.5111e-04 - val_mse: 2.5111e-04\n",
            "Epoch 65/100\n",
            "521/521 [==============================] - 1s 2ms/step - loss: 3.7880e-04 - mse: 3.7880e-04 - val_loss: 2.7287e-04 - val_mse: 2.7287e-04\n",
            "Epoch 66/100\n",
            "521/521 [==============================] - 1s 2ms/step - loss: 3.5830e-04 - mse: 3.5830e-04 - val_loss: 3.6840e-04 - val_mse: 3.6840e-04\n",
            "Epoch 67/100\n",
            "521/521 [==============================] - 1s 2ms/step - loss: 3.4526e-04 - mse: 3.4526e-04 - val_loss: 3.7828e-04 - val_mse: 3.7828e-04\n",
            "Epoch 68/100\n",
            "521/521 [==============================] - 1s 2ms/step - loss: 3.5619e-04 - mse: 3.5619e-04 - val_loss: 2.3692e-04 - val_mse: 2.3692e-04\n",
            "Epoch 69/100\n",
            "521/521 [==============================] - 1s 2ms/step - loss: 3.5588e-04 - mse: 3.5588e-04 - val_loss: 2.5428e-04 - val_mse: 2.5428e-04\n",
            "Epoch 70/100\n",
            "521/521 [==============================] - 1s 2ms/step - loss: 3.5896e-04 - mse: 3.5896e-04 - val_loss: 3.1817e-04 - val_mse: 3.1817e-04\n",
            "Epoch 71/100\n",
            "521/521 [==============================] - 1s 2ms/step - loss: 3.7218e-04 - mse: 3.7218e-04 - val_loss: 3.8844e-04 - val_mse: 3.8844e-04\n",
            "Epoch 72/100\n",
            "521/521 [==============================] - 1s 2ms/step - loss: 3.6360e-04 - mse: 3.6360e-04 - val_loss: 2.7677e-04 - val_mse: 2.7677e-04\n",
            "Epoch 73/100\n",
            "521/521 [==============================] - 1s 2ms/step - loss: 3.9520e-04 - mse: 3.9520e-04 - val_loss: 2.7665e-04 - val_mse: 2.7665e-04\n",
            "Epoch 74/100\n",
            "521/521 [==============================] - 1s 2ms/step - loss: 3.6164e-04 - mse: 3.6164e-04 - val_loss: 2.4178e-04 - val_mse: 2.4178e-04\n",
            "Epoch 75/100\n",
            "521/521 [==============================] - 1s 2ms/step - loss: 3.5104e-04 - mse: 3.5104e-04 - val_loss: 3.1022e-04 - val_mse: 3.1022e-04\n",
            "Epoch 76/100\n",
            "521/521 [==============================] - 1s 2ms/step - loss: 3.7257e-04 - mse: 3.7257e-04 - val_loss: 2.6282e-04 - val_mse: 2.6282e-04\n",
            "Epoch 77/100\n",
            "521/521 [==============================] - 1s 2ms/step - loss: 3.8343e-04 - mse: 3.8343e-04 - val_loss: 2.6665e-04 - val_mse: 2.6665e-04\n",
            "Epoch 78/100\n",
            "521/521 [==============================] - 1s 2ms/step - loss: 3.6354e-04 - mse: 3.6354e-04 - val_loss: 2.6041e-04 - val_mse: 2.6041e-04\n",
            "Epoch 79/100\n",
            "521/521 [==============================] - 1s 2ms/step - loss: 3.4737e-04 - mse: 3.4737e-04 - val_loss: 3.1955e-04 - val_mse: 3.1955e-04\n",
            "Epoch 80/100\n",
            "521/521 [==============================] - 1s 2ms/step - loss: 3.5159e-04 - mse: 3.5159e-04 - val_loss: 3.5980e-04 - val_mse: 3.5980e-04\n",
            "Epoch 81/100\n",
            "521/521 [==============================] - 1s 2ms/step - loss: 3.5945e-04 - mse: 3.5945e-04 - val_loss: 2.4255e-04 - val_mse: 2.4255e-04\n",
            "Epoch 82/100\n",
            "521/521 [==============================] - 1s 2ms/step - loss: 3.8614e-04 - mse: 3.8614e-04 - val_loss: 2.5802e-04 - val_mse: 2.5802e-04\n",
            "Epoch 83/100\n",
            "521/521 [==============================] - 1s 2ms/step - loss: 3.4237e-04 - mse: 3.4237e-04 - val_loss: 0.0011 - val_mse: 0.0011\n",
            "Epoch 84/100\n",
            "521/521 [==============================] - 1s 2ms/step - loss: 3.5967e-04 - mse: 3.5967e-04 - val_loss: 2.3603e-04 - val_mse: 2.3603e-04\n",
            "Epoch 85/100\n",
            "521/521 [==============================] - 1s 2ms/step - loss: 3.3739e-04 - mse: 3.3739e-04 - val_loss: 2.2985e-04 - val_mse: 2.2985e-04\n",
            "Epoch 86/100\n",
            "521/521 [==============================] - 1s 2ms/step - loss: 3.6614e-04 - mse: 3.6614e-04 - val_loss: 3.6837e-04 - val_mse: 3.6837e-04\n",
            "Epoch 87/100\n",
            "521/521 [==============================] - 1s 2ms/step - loss: 3.2932e-04 - mse: 3.2932e-04 - val_loss: 5.0999e-04 - val_mse: 5.0999e-04\n",
            "Epoch 88/100\n",
            "521/521 [==============================] - 1s 2ms/step - loss: 3.6180e-04 - mse: 3.6180e-04 - val_loss: 2.2965e-04 - val_mse: 2.2965e-04\n",
            "Epoch 89/100\n",
            "521/521 [==============================] - 1s 2ms/step - loss: 3.6220e-04 - mse: 3.6220e-04 - val_loss: 2.3778e-04 - val_mse: 2.3778e-04\n",
            "Epoch 90/100\n",
            "521/521 [==============================] - 1s 2ms/step - loss: 3.4445e-04 - mse: 3.4445e-04 - val_loss: 2.6471e-04 - val_mse: 2.6471e-04\n",
            "Epoch 91/100\n",
            "521/521 [==============================] - 1s 2ms/step - loss: 3.4054e-04 - mse: 3.4054e-04 - val_loss: 2.5891e-04 - val_mse: 2.5891e-04\n",
            "Epoch 92/100\n",
            "521/521 [==============================] - 1s 2ms/step - loss: 3.3958e-04 - mse: 3.3958e-04 - val_loss: 2.8268e-04 - val_mse: 2.8268e-04\n",
            "Epoch 93/100\n",
            "521/521 [==============================] - 1s 2ms/step - loss: 3.6347e-04 - mse: 3.6347e-04 - val_loss: 2.2851e-04 - val_mse: 2.2851e-04\n",
            "Epoch 94/100\n",
            "521/521 [==============================] - 1s 2ms/step - loss: 3.4337e-04 - mse: 3.4337e-04 - val_loss: 2.3916e-04 - val_mse: 2.3916e-04\n",
            "Epoch 95/100\n",
            "521/521 [==============================] - 1s 2ms/step - loss: 3.4578e-04 - mse: 3.4578e-04 - val_loss: 2.5586e-04 - val_mse: 2.5586e-04\n",
            "Epoch 96/100\n",
            "521/521 [==============================] - 1s 2ms/step - loss: 3.3753e-04 - mse: 3.3753e-04 - val_loss: 2.3754e-04 - val_mse: 2.3754e-04\n",
            "Epoch 97/100\n",
            "521/521 [==============================] - 1s 2ms/step - loss: 3.3890e-04 - mse: 3.3890e-04 - val_loss: 2.4575e-04 - val_mse: 2.4575e-04\n",
            "Epoch 98/100\n",
            "521/521 [==============================] - 1s 2ms/step - loss: 3.2086e-04 - mse: 3.2086e-04 - val_loss: 2.2701e-04 - val_mse: 2.2701e-04\n",
            "Epoch 99/100\n",
            "521/521 [==============================] - 1s 2ms/step - loss: 3.4947e-04 - mse: 3.4947e-04 - val_loss: 2.2845e-04 - val_mse: 2.2845e-04\n",
            "Epoch 100/100\n",
            "521/521 [==============================] - 1s 2ms/step - loss: 3.1776e-04 - mse: 3.1776e-04 - val_loss: 2.5864e-04 - val_mse: 2.5864e-04\n"
          ]
        },
        {
          "data": {
            "text/plain": [
              "<keras.callbacks.History at 0x285988777c8>"
            ]
          },
          "execution_count": 126,
          "metadata": {},
          "output_type": "execute_result"
        }
      ],
      "source": [
        "model = keras.models.Sequential()\n",
        "model.add(keras.layers.LSTM(10, input_shape = (1, 25), activation = 'tanh'))\n",
        "model.add(keras.layers.Dense(1, activation = 'linear'))\n",
        "model.compile(optimizer = 'adam', metrics = 'mse', loss = 'mse')\n",
        "model.fit(np.expand_dims(x_train, axis = 1), y_train, epochs = 100, validation_data = (np.expand_dims(x_test, axis = 1),  y_test), batch_size = 5)"
      ]
    },
    {
      "cell_type": "code",
      "execution_count": null,
      "metadata": {
        "id": "VzKTKVIlBh96",
        "outputId": "e875b9e0-c9ff-4b0a-f5a4-10a8a463b681"
      },
      "outputs": [
        {
          "data": {
            "image/png": "[encoded data removed]",
            "text/plain": [
              "<Figure size 432x288 with 2 Axes>"
            ]
          },
          "metadata": {
            "needs_background": "light"
          },
          "output_type": "display_data"
        },
        {
          "name": "stdout",
          "output_type": "stream",
          "text": [
            "-0.005290571356123128 0.015187181547692788\n"
          ]
        }
      ],
      "source": [
        "y_pre_te = model.predict(np.expand_dims(x_test, axis = 1))\n",
        "error = y_pre_te.reshape(1116, 1) - y_test\n",
        "plt.subplot(211)\n",
        "plt.plot(y_pre_te.reshape(1116, 1), 'b-')\n",
        "plt.plot(y_test, 'r-')\n",
        "plt.subplot(212)\n",
        "plt.plot(error)\n",
        "plt.show()\n",
        "print(np.mean(error), np.std(error))"
      ]
    },
    {
      "cell_type": "code",
      "execution_count": null,
      "metadata": {
        "id": "b3TVwcxBBh97"
      },
      "outputs": [],
      "source": [
        ""
      ]
    }
  ],
  "metadata": {
    "kernelspec": {
      "display_name": "Python 3",
      "language": "python",
      "name": "python3"
    },
    "language_info": {
      "codemirror_mode": {
        "name": "ipython",
        "version": 3
      },
      "file_extension": ".py",
      "mimetype": "text/x-python",
      "name": "python",
      "nbconvert_exporter": "python",
      "pygments_lexer": "ipython3",
      "version": "3.7.9"
    },
    "colab": {
      "name": "Time series prediction - RNN .ipynb",
      "provenance": [],
      "include_colab_link": true
    }
  },
  "nbformat": 4,
  "nbformat_minor": 0
}